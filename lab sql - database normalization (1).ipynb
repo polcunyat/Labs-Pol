{
 "cells": [
  {
   "cell_type": "markdown",
   "id": "e3c3aa4b-61c4-46bb-b897-ff671cbab1d5",
   "metadata": {},
   "source": [
    "1. Use [dbdiagram.io](https://dbdiagram.io/home) or [draw.io](https://draw.io) to propose a new structure for the `Sakila` database.\n",
    "2. Define primary keys and foreign keys for the new database."
   ]
  }
 ],
 "metadata": {
  "kernelspec": {
   "display_name": "Python 3 (ipykernel)",
   "language": "python",
   "name": "python3"
  },
  "language_info": {
   "codemirror_mode": {
    "name": "ipython",
    "version": 3
   },
   "file_extension": ".py",
   "mimetype": "text/x-python",
   "name": "python",
   "nbconvert_exporter": "python",
   "pygments_lexer": "ipython3",
   "version": "3.9.7"
  }
 },
 "nbformat": 4,
 "nbformat_minor": 5
}
